{
 "cells": [
  {
   "metadata": {},
   "cell_type": "markdown",
   "source": [
    "# Лабораторная работа №2\n",
    "## Задания\n",
    "1. Существует ли связь между количеством детей и своевременным погашением кредита?\n",
    "2. Имеет ли влияние семейное положение на возврат кредита в оговоренный срок?\n",
    "3. Есть ли зависимость между уровнем дохода заемщика и своевременным погашением задолженности?\n",
    "4. Как цели, на которые берется кредит, влияют на его возврат в срок?"
   ],
   "id": "86c4ebae356443b8"
  },
  {
   "metadata": {
    "ExecuteTime": {
     "end_time": "2024-10-02T10:52:18.143930Z",
     "start_time": "2024-10-02T10:52:18.013573Z"
    }
   },
   "cell_type": "code",
   "source": [
    "import pandas as pd\n",
    "from matplotlib import pyplot as plt\n",
    "\n",
    "credit_data = pd.read_csv('/Users/denisovamaria/PyCharmData/lab2Data.csv')\n",
    "credit_data.info()"
   ],
   "id": "fbc121e30a2defb3",
   "outputs": [
    {
     "name": "stdout",
     "output_type": "stream",
     "text": [
      "<class 'pandas.core.frame.DataFrame'>\n",
      "RangeIndex: 21525 entries, 0 to 21524\n",
      "Data columns (total 12 columns):\n",
      " #   Column         Non-Null Count  Dtype  \n",
      "---  ------         --------------  -----  \n",
      " 0   child          21525 non-null  int64  \n",
      " 1   d_employed     19351 non-null  float64\n",
      " 2   age            21525 non-null  int64  \n",
      " 3   ed             21525 non-null  object \n",
      " 4   ed_id          21525 non-null  int64  \n",
      " 5   fam_status     21525 non-null  object \n",
      " 6   fam_status_id  21525 non-null  int64  \n",
      " 7   gender         21525 non-null  object \n",
      " 8   occupation     21525 non-null  object \n",
      " 9   debt           21525 non-null  int64  \n",
      " 10  total_income   19351 non-null  float64\n",
      " 11  purpose        21525 non-null  object \n",
      "dtypes: float64(2), int64(5), object(5)\n",
      "memory usage: 2.0+ MB\n"
     ]
    }
   ],
   "execution_count": 61
  },
  {
   "metadata": {
    "ExecuteTime": {
     "end_time": "2024-10-02T10:01:49.560219Z",
     "start_time": "2024-10-02T10:01:49.541786Z"
    }
   },
   "cell_type": "code",
   "source": "credit_data.describe()",
   "id": "d5842a5447bd5b94",
   "outputs": [
    {
     "data": {
      "text/plain": [
       "              child     d_employed           age         ed_id  fam_status_id  \\\n",
       "count  21525.000000   19351.000000  21525.000000  21525.000000   21525.000000   \n",
       "mean       0.538908   63046.497661     43.293380      0.817236       0.972544   \n",
       "std        1.381587  140827.311974     12.574584      0.548138       1.420324   \n",
       "min       -1.000000  -18388.949901      0.000000      0.000000       0.000000   \n",
       "25%        0.000000   -2747.423625     33.000000      1.000000       0.000000   \n",
       "50%        0.000000   -1203.369529     42.000000      1.000000       0.000000   \n",
       "75%        1.000000    -291.095954     53.000000      1.000000       1.000000   \n",
       "max       20.000000  401755.400475     75.000000      4.000000       4.000000   \n",
       "\n",
       "               debt  total_income  \n",
       "count  21525.000000  1.935100e+04  \n",
       "mean       0.080883  1.674223e+05  \n",
       "std        0.272661  1.029716e+05  \n",
       "min        0.000000  2.066726e+04  \n",
       "25%        0.000000  1.030532e+05  \n",
       "50%        0.000000  1.450179e+05  \n",
       "75%        0.000000  2.034351e+05  \n",
       "max        1.000000  2.265604e+06  "
      ],
      "text/html": [
       "<div>\n",
       "<style scoped>\n",
       "    .dataframe tbody tr th:only-of-type {\n",
       "        vertical-align: middle;\n",
       "    }\n",
       "\n",
       "    .dataframe tbody tr th {\n",
       "        vertical-align: top;\n",
       "    }\n",
       "\n",
       "    .dataframe thead th {\n",
       "        text-align: right;\n",
       "    }\n",
       "</style>\n",
       "<table border=\"1\" class=\"dataframe\">\n",
       "  <thead>\n",
       "    <tr style=\"text-align: right;\">\n",
       "      <th></th>\n",
       "      <th>child</th>\n",
       "      <th>d_employed</th>\n",
       "      <th>age</th>\n",
       "      <th>ed_id</th>\n",
       "      <th>fam_status_id</th>\n",
       "      <th>debt</th>\n",
       "      <th>total_income</th>\n",
       "    </tr>\n",
       "  </thead>\n",
       "  <tbody>\n",
       "    <tr>\n",
       "      <th>count</th>\n",
       "      <td>21525.000000</td>\n",
       "      <td>19351.000000</td>\n",
       "      <td>21525.000000</td>\n",
       "      <td>21525.000000</td>\n",
       "      <td>21525.000000</td>\n",
       "      <td>21525.000000</td>\n",
       "      <td>1.935100e+04</td>\n",
       "    </tr>\n",
       "    <tr>\n",
       "      <th>mean</th>\n",
       "      <td>0.538908</td>\n",
       "      <td>63046.497661</td>\n",
       "      <td>43.293380</td>\n",
       "      <td>0.817236</td>\n",
       "      <td>0.972544</td>\n",
       "      <td>0.080883</td>\n",
       "      <td>1.674223e+05</td>\n",
       "    </tr>\n",
       "    <tr>\n",
       "      <th>std</th>\n",
       "      <td>1.381587</td>\n",
       "      <td>140827.311974</td>\n",
       "      <td>12.574584</td>\n",
       "      <td>0.548138</td>\n",
       "      <td>1.420324</td>\n",
       "      <td>0.272661</td>\n",
       "      <td>1.029716e+05</td>\n",
       "    </tr>\n",
       "    <tr>\n",
       "      <th>min</th>\n",
       "      <td>-1.000000</td>\n",
       "      <td>-18388.949901</td>\n",
       "      <td>0.000000</td>\n",
       "      <td>0.000000</td>\n",
       "      <td>0.000000</td>\n",
       "      <td>0.000000</td>\n",
       "      <td>2.066726e+04</td>\n",
       "    </tr>\n",
       "    <tr>\n",
       "      <th>25%</th>\n",
       "      <td>0.000000</td>\n",
       "      <td>-2747.423625</td>\n",
       "      <td>33.000000</td>\n",
       "      <td>1.000000</td>\n",
       "      <td>0.000000</td>\n",
       "      <td>0.000000</td>\n",
       "      <td>1.030532e+05</td>\n",
       "    </tr>\n",
       "    <tr>\n",
       "      <th>50%</th>\n",
       "      <td>0.000000</td>\n",
       "      <td>-1203.369529</td>\n",
       "      <td>42.000000</td>\n",
       "      <td>1.000000</td>\n",
       "      <td>0.000000</td>\n",
       "      <td>0.000000</td>\n",
       "      <td>1.450179e+05</td>\n",
       "    </tr>\n",
       "    <tr>\n",
       "      <th>75%</th>\n",
       "      <td>1.000000</td>\n",
       "      <td>-291.095954</td>\n",
       "      <td>53.000000</td>\n",
       "      <td>1.000000</td>\n",
       "      <td>1.000000</td>\n",
       "      <td>0.000000</td>\n",
       "      <td>2.034351e+05</td>\n",
       "    </tr>\n",
       "    <tr>\n",
       "      <th>max</th>\n",
       "      <td>20.000000</td>\n",
       "      <td>401755.400475</td>\n",
       "      <td>75.000000</td>\n",
       "      <td>4.000000</td>\n",
       "      <td>4.000000</td>\n",
       "      <td>1.000000</td>\n",
       "      <td>2.265604e+06</td>\n",
       "    </tr>\n",
       "  </tbody>\n",
       "</table>\n",
       "</div>"
      ]
     },
     "execution_count": 32,
     "metadata": {},
     "output_type": "execute_result"
    }
   ],
   "execution_count": 32
  },
  {
   "metadata": {},
   "cell_type": "markdown",
   "source": "# Обработка данных",
   "id": "fef09613500e9629"
  },
  {
   "metadata": {},
   "cell_type": "markdown",
   "source": "## Обработка дубликатов",
   "id": "9179df786d3d65ef"
  },
  {
   "metadata": {
    "ExecuteTime": {
     "end_time": "2024-10-02T10:01:49.615670Z",
     "start_time": "2024-10-02T10:01:49.589548Z"
    }
   },
   "cell_type": "code",
   "source": [
    "credit_data.drop_duplicates(inplace=True)\n",
    "credit_data.describe()"
   ],
   "id": "4687519252dcb3ba",
   "outputs": [
    {
     "data": {
      "text/plain": [
       "              child     d_employed           age         ed_id  fam_status_id  \\\n",
       "count  21471.000000   19351.000000  21471.000000  21471.000000   21471.000000   \n",
       "mean       0.539565   63046.497661     43.279074      0.817195       0.973685   \n",
       "std        1.382978  140827.311974     12.574291      0.548508       1.421082   \n",
       "min       -1.000000  -18388.949901      0.000000      0.000000       0.000000   \n",
       "25%        0.000000   -2747.423625     33.000000      1.000000       0.000000   \n",
       "50%        0.000000   -1203.369529     42.000000      1.000000       0.000000   \n",
       "75%        1.000000    -291.095954     53.000000      1.000000       1.000000   \n",
       "max       20.000000  401755.400475     75.000000      4.000000       4.000000   \n",
       "\n",
       "               debt  total_income  \n",
       "count  21471.000000  1.935100e+04  \n",
       "mean       0.081086  1.674223e+05  \n",
       "std        0.272974  1.029716e+05  \n",
       "min        0.000000  2.066726e+04  \n",
       "25%        0.000000  1.030532e+05  \n",
       "50%        0.000000  1.450179e+05  \n",
       "75%        0.000000  2.034351e+05  \n",
       "max        1.000000  2.265604e+06  "
      ],
      "text/html": [
       "<div>\n",
       "<style scoped>\n",
       "    .dataframe tbody tr th:only-of-type {\n",
       "        vertical-align: middle;\n",
       "    }\n",
       "\n",
       "    .dataframe tbody tr th {\n",
       "        vertical-align: top;\n",
       "    }\n",
       "\n",
       "    .dataframe thead th {\n",
       "        text-align: right;\n",
       "    }\n",
       "</style>\n",
       "<table border=\"1\" class=\"dataframe\">\n",
       "  <thead>\n",
       "    <tr style=\"text-align: right;\">\n",
       "      <th></th>\n",
       "      <th>child</th>\n",
       "      <th>d_employed</th>\n",
       "      <th>age</th>\n",
       "      <th>ed_id</th>\n",
       "      <th>fam_status_id</th>\n",
       "      <th>debt</th>\n",
       "      <th>total_income</th>\n",
       "    </tr>\n",
       "  </thead>\n",
       "  <tbody>\n",
       "    <tr>\n",
       "      <th>count</th>\n",
       "      <td>21471.000000</td>\n",
       "      <td>19351.000000</td>\n",
       "      <td>21471.000000</td>\n",
       "      <td>21471.000000</td>\n",
       "      <td>21471.000000</td>\n",
       "      <td>21471.000000</td>\n",
       "      <td>1.935100e+04</td>\n",
       "    </tr>\n",
       "    <tr>\n",
       "      <th>mean</th>\n",
       "      <td>0.539565</td>\n",
       "      <td>63046.497661</td>\n",
       "      <td>43.279074</td>\n",
       "      <td>0.817195</td>\n",
       "      <td>0.973685</td>\n",
       "      <td>0.081086</td>\n",
       "      <td>1.674223e+05</td>\n",
       "    </tr>\n",
       "    <tr>\n",
       "      <th>std</th>\n",
       "      <td>1.382978</td>\n",
       "      <td>140827.311974</td>\n",
       "      <td>12.574291</td>\n",
       "      <td>0.548508</td>\n",
       "      <td>1.421082</td>\n",
       "      <td>0.272974</td>\n",
       "      <td>1.029716e+05</td>\n",
       "    </tr>\n",
       "    <tr>\n",
       "      <th>min</th>\n",
       "      <td>-1.000000</td>\n",
       "      <td>-18388.949901</td>\n",
       "      <td>0.000000</td>\n",
       "      <td>0.000000</td>\n",
       "      <td>0.000000</td>\n",
       "      <td>0.000000</td>\n",
       "      <td>2.066726e+04</td>\n",
       "    </tr>\n",
       "    <tr>\n",
       "      <th>25%</th>\n",
       "      <td>0.000000</td>\n",
       "      <td>-2747.423625</td>\n",
       "      <td>33.000000</td>\n",
       "      <td>1.000000</td>\n",
       "      <td>0.000000</td>\n",
       "      <td>0.000000</td>\n",
       "      <td>1.030532e+05</td>\n",
       "    </tr>\n",
       "    <tr>\n",
       "      <th>50%</th>\n",
       "      <td>0.000000</td>\n",
       "      <td>-1203.369529</td>\n",
       "      <td>42.000000</td>\n",
       "      <td>1.000000</td>\n",
       "      <td>0.000000</td>\n",
       "      <td>0.000000</td>\n",
       "      <td>1.450179e+05</td>\n",
       "    </tr>\n",
       "    <tr>\n",
       "      <th>75%</th>\n",
       "      <td>1.000000</td>\n",
       "      <td>-291.095954</td>\n",
       "      <td>53.000000</td>\n",
       "      <td>1.000000</td>\n",
       "      <td>1.000000</td>\n",
       "      <td>0.000000</td>\n",
       "      <td>2.034351e+05</td>\n",
       "    </tr>\n",
       "    <tr>\n",
       "      <th>max</th>\n",
       "      <td>20.000000</td>\n",
       "      <td>401755.400475</td>\n",
       "      <td>75.000000</td>\n",
       "      <td>4.000000</td>\n",
       "      <td>4.000000</td>\n",
       "      <td>1.000000</td>\n",
       "      <td>2.265604e+06</td>\n",
       "    </tr>\n",
       "  </tbody>\n",
       "</table>\n",
       "</div>"
      ]
     },
     "execution_count": 33,
     "metadata": {},
     "output_type": "execute_result"
    }
   ],
   "execution_count": 33
  },
  {
   "metadata": {},
   "cell_type": "markdown",
   "source": "## Обработка информации о детей ",
   "id": "7ad7dfd3c8a815f8"
  },
  {
   "metadata": {
    "ExecuteTime": {
     "end_time": "2024-10-02T10:01:49.682036Z",
     "start_time": "2024-10-02T10:01:49.671065Z"
    }
   },
   "cell_type": "code",
   "source": [
    "credit_data.child = credit_data.child.apply(lambda x: abs(x) if x < 0 else x)\n",
    "credit_data.child.describe()"
   ],
   "id": "5c1d0280888ce983",
   "outputs": [
    {
     "data": {
      "text/plain": [
       "count    21471.000000\n",
       "mean         0.543943\n",
       "std          1.381262\n",
       "min          0.000000\n",
       "25%          0.000000\n",
       "50%          0.000000\n",
       "75%          1.000000\n",
       "max         20.000000\n",
       "Name: child, dtype: float64"
      ]
     },
     "execution_count": 34,
     "metadata": {},
     "output_type": "execute_result"
    }
   ],
   "execution_count": 34
  },
  {
   "metadata": {
    "ExecuteTime": {
     "end_time": "2024-10-02T10:01:49.781095Z",
     "start_time": "2024-10-02T10:01:49.776319Z"
    }
   },
   "cell_type": "code",
   "source": "credit_data.child.describe()",
   "id": "1066711ad4fc2018",
   "outputs": [
    {
     "data": {
      "text/plain": [
       "count    21471.000000\n",
       "mean         0.543943\n",
       "std          1.381262\n",
       "min          0.000000\n",
       "25%          0.000000\n",
       "50%          0.000000\n",
       "75%          1.000000\n",
       "max         20.000000\n",
       "Name: child, dtype: float64"
      ]
     },
     "execution_count": 35,
     "metadata": {},
     "output_type": "execute_result"
    }
   ],
   "execution_count": 35
  },
  {
   "metadata": {},
   "cell_type": "markdown",
   "source": "## Обработка информации о стаже",
   "id": "3de0c5ea1a1e87a2"
  },
  {
   "metadata": {
    "ExecuteTime": {
     "end_time": "2024-10-02T10:01:49.893327Z",
     "start_time": "2024-10-02T10:01:49.881797Z"
    }
   },
   "cell_type": "code",
   "source": [
    "credit_data.d_employed = credit_data.d_employed.apply(lambda x: abs(x) if x < 0 else x)\n",
    "credit_data.d_employed.describe()"
   ],
   "id": "7e247c709d2f89fd",
   "outputs": [
    {
     "data": {
      "text/plain": [
       "count     19351.000000\n",
       "mean      66914.728907\n",
       "std      139030.880527\n",
       "min          24.141633\n",
       "25%         927.009265\n",
       "50%        2194.220567\n",
       "75%        5537.882441\n",
       "max      401755.400475\n",
       "Name: d_employed, dtype: float64"
      ]
     },
     "execution_count": 36,
     "metadata": {},
     "output_type": "execute_result"
    }
   ],
   "execution_count": 36
  },
  {
   "metadata": {
    "ExecuteTime": {
     "end_time": "2024-10-02T10:01:50.099985Z",
     "start_time": "2024-10-02T10:01:49.967486Z"
    }
   },
   "cell_type": "code",
   "source": [
    "def d_employed_info(row):\n",
    "    if row['d_employed'] // 365 > row['age'] - 14:\n",
    "        return row['d_employed'] / 24\n",
    "    else:\n",
    "        return row['d_employed']\n",
    "\n",
    "\n",
    "credit_data['d_employed'] = credit_data.apply(d_employed_info, axis=1)\n"
   ],
   "id": "412985eac7f35d54",
   "outputs": [],
   "execution_count": 37
  },
  {
   "metadata": {
    "ExecuteTime": {
     "end_time": "2024-10-02T10:01:50.125857Z",
     "start_time": "2024-10-02T10:01:50.122617Z"
    }
   },
   "cell_type": "code",
   "source": "credit_data.d_employed = credit_data.d_employed.fillna(credit_data.d_employed.median())",
   "id": "9ef9af969b2285d5",
   "outputs": [],
   "execution_count": 38
  },
  {
   "metadata": {
    "ExecuteTime": {
     "end_time": "2024-10-02T10:01:50.151507Z",
     "start_time": "2024-10-02T10:01:50.135884Z"
    }
   },
   "cell_type": "code",
   "source": "credit_data.describe()",
   "id": "4a81cea2c18834e0",
   "outputs": [
    {
     "data": {
      "text/plain": [
       "              child    d_employed           age         ed_id  fam_status_id  \\\n",
       "count  21471.000000  21471.000000  21471.000000  21471.000000   21471.000000   \n",
       "mean       0.543943   4386.494667     43.279074      0.817195       0.973685   \n",
       "std        1.381262   5137.699982     12.574291      0.548508       1.421082   \n",
       "min        0.000000      4.000000      0.000000      0.000000       0.000000   \n",
       "25%        0.000000   1015.000000     33.000000      1.000000       0.000000   \n",
       "50%        0.000000   2183.000000     42.000000      1.000000       0.000000   \n",
       "75%        1.000000   4778.000000     53.000000      1.000000       1.000000   \n",
       "max       20.000000  16739.000000     75.000000      4.000000       4.000000   \n",
       "\n",
       "               debt  total_income  \n",
       "count  21471.000000  1.935100e+04  \n",
       "mean       0.081086  1.674223e+05  \n",
       "std        0.272974  1.029716e+05  \n",
       "min        0.000000  2.066726e+04  \n",
       "25%        0.000000  1.030532e+05  \n",
       "50%        0.000000  1.450179e+05  \n",
       "75%        0.000000  2.034351e+05  \n",
       "max        1.000000  2.265604e+06  "
      ],
      "text/html": [
       "<div>\n",
       "<style scoped>\n",
       "    .dataframe tbody tr th:only-of-type {\n",
       "        vertical-align: middle;\n",
       "    }\n",
       "\n",
       "    .dataframe tbody tr th {\n",
       "        vertical-align: top;\n",
       "    }\n",
       "\n",
       "    .dataframe thead th {\n",
       "        text-align: right;\n",
       "    }\n",
       "</style>\n",
       "<table border=\"1\" class=\"dataframe\">\n",
       "  <thead>\n",
       "    <tr style=\"text-align: right;\">\n",
       "      <th></th>\n",
       "      <th>child</th>\n",
       "      <th>d_employed</th>\n",
       "      <th>age</th>\n",
       "      <th>ed_id</th>\n",
       "      <th>fam_status_id</th>\n",
       "      <th>debt</th>\n",
       "      <th>total_income</th>\n",
       "    </tr>\n",
       "  </thead>\n",
       "  <tbody>\n",
       "    <tr>\n",
       "      <th>count</th>\n",
       "      <td>21471.000000</td>\n",
       "      <td>21471.000000</td>\n",
       "      <td>21471.000000</td>\n",
       "      <td>21471.000000</td>\n",
       "      <td>21471.000000</td>\n",
       "      <td>21471.000000</td>\n",
       "      <td>1.935100e+04</td>\n",
       "    </tr>\n",
       "    <tr>\n",
       "      <th>mean</th>\n",
       "      <td>0.543943</td>\n",
       "      <td>4386.494667</td>\n",
       "      <td>43.279074</td>\n",
       "      <td>0.817195</td>\n",
       "      <td>0.973685</td>\n",
       "      <td>0.081086</td>\n",
       "      <td>1.674223e+05</td>\n",
       "    </tr>\n",
       "    <tr>\n",
       "      <th>std</th>\n",
       "      <td>1.381262</td>\n",
       "      <td>5137.699982</td>\n",
       "      <td>12.574291</td>\n",
       "      <td>0.548508</td>\n",
       "      <td>1.421082</td>\n",
       "      <td>0.272974</td>\n",
       "      <td>1.029716e+05</td>\n",
       "    </tr>\n",
       "    <tr>\n",
       "      <th>min</th>\n",
       "      <td>0.000000</td>\n",
       "      <td>4.000000</td>\n",
       "      <td>0.000000</td>\n",
       "      <td>0.000000</td>\n",
       "      <td>0.000000</td>\n",
       "      <td>0.000000</td>\n",
       "      <td>2.066726e+04</td>\n",
       "    </tr>\n",
       "    <tr>\n",
       "      <th>25%</th>\n",
       "      <td>0.000000</td>\n",
       "      <td>1015.000000</td>\n",
       "      <td>33.000000</td>\n",
       "      <td>1.000000</td>\n",
       "      <td>0.000000</td>\n",
       "      <td>0.000000</td>\n",
       "      <td>1.030532e+05</td>\n",
       "    </tr>\n",
       "    <tr>\n",
       "      <th>50%</th>\n",
       "      <td>0.000000</td>\n",
       "      <td>2183.000000</td>\n",
       "      <td>42.000000</td>\n",
       "      <td>1.000000</td>\n",
       "      <td>0.000000</td>\n",
       "      <td>0.000000</td>\n",
       "      <td>1.450179e+05</td>\n",
       "    </tr>\n",
       "    <tr>\n",
       "      <th>75%</th>\n",
       "      <td>1.000000</td>\n",
       "      <td>4778.000000</td>\n",
       "      <td>53.000000</td>\n",
       "      <td>1.000000</td>\n",
       "      <td>1.000000</td>\n",
       "      <td>0.000000</td>\n",
       "      <td>2.034351e+05</td>\n",
       "    </tr>\n",
       "    <tr>\n",
       "      <th>max</th>\n",
       "      <td>20.000000</td>\n",
       "      <td>16739.000000</td>\n",
       "      <td>75.000000</td>\n",
       "      <td>4.000000</td>\n",
       "      <td>4.000000</td>\n",
       "      <td>1.000000</td>\n",
       "      <td>2.265604e+06</td>\n",
       "    </tr>\n",
       "  </tbody>\n",
       "</table>\n",
       "</div>"
      ]
     },
     "execution_count": 39,
     "metadata": {},
     "output_type": "execute_result"
    }
   ],
   "execution_count": 39
  },
  {
   "metadata": {},
   "cell_type": "markdown",
   "source": "## Обработка информации о возрасте ",
   "id": "c8e1e4b0643ce0ee"
  },
  {
   "metadata": {
    "ExecuteTime": {
     "end_time": "2024-10-02T10:01:50.205292Z",
     "start_time": "2024-10-02T10:01:50.197432Z"
    }
   },
   "cell_type": "code",
   "source": [
    "credit_data = credit_data[credit_data.age >= 18]\n",
    "credit_data.age.describe()"
   ],
   "id": "5859ecbcaf5a2227",
   "outputs": [
    {
     "data": {
      "text/plain": [
       "count    21370.000000\n",
       "mean        43.483622\n",
       "std         12.246029\n",
       "min         19.000000\n",
       "25%         33.000000\n",
       "50%         43.000000\n",
       "75%         53.000000\n",
       "max         75.000000\n",
       "Name: age, dtype: float64"
      ]
     },
     "execution_count": 40,
     "metadata": {},
     "output_type": "execute_result"
    }
   ],
   "execution_count": 40
  },
  {
   "metadata": {},
   "cell_type": "markdown",
   "source": "## Обработка информации об образовании и семье",
   "id": "7d9eb2bf9f0bc276"
  },
  {
   "metadata": {
    "ExecuteTime": {
     "end_time": "2024-10-02T10:01:50.276987Z",
     "start_time": "2024-10-02T10:01:50.263481Z"
    }
   },
   "cell_type": "code",
   "source": [
    "def lower_info(credit_data, a):\n",
    "    credit_data[a] = credit_data[a].str.lower()\n",
    "\n",
    "\n",
    "display(credit_data.fam_status.describe())\n",
    "display(credit_data.ed.describe())\n",
    "display(credit_data.occupation.describe())"
   ],
   "id": "c6e59cf62675c20c",
   "outputs": [
    {
     "data": {
      "text/plain": [
       "count               21370\n",
       "unique                  5\n",
       "top       женат / замужем\n",
       "freq                12295\n",
       "Name: fam_status, dtype: object"
      ]
     },
     "metadata": {},
     "output_type": "display_data"
    },
    {
     "data": {
      "text/plain": [
       "count       21370\n",
       "unique         15\n",
       "top       среднее\n",
       "freq        13646\n",
       "Name: ed, dtype: object"
      ]
     },
     "metadata": {},
     "output_type": "display_data"
    },
    {
     "data": {
      "text/plain": [
       "count         21370\n",
       "unique            8\n",
       "top       сотрудник\n",
       "freq          11036\n",
       "Name: occupation, dtype: object"
      ]
     },
     "metadata": {},
     "output_type": "display_data"
    }
   ],
   "execution_count": 41
  },
  {
   "metadata": {},
   "cell_type": "markdown",
   "source": "## Обработка данных о поле",
   "id": "bf96bc90ab0913d2"
  },
  {
   "metadata": {
    "ExecuteTime": {
     "end_time": "2024-10-02T10:01:50.381724Z",
     "start_time": "2024-10-02T10:01:50.366020Z"
    }
   },
   "cell_type": "code",
   "source": [
    "lower_info(credit_data, 'ed')\n",
    "lower_info(credit_data, 'occupation')\n",
    "display(credit_data.ed.describe())\n",
    "display(credit_data.occupation.describe())"
   ],
   "id": "7d558a3efe7139e",
   "outputs": [
    {
     "data": {
      "text/plain": [
       "count       21370\n",
       "unique          5\n",
       "top       среднее\n",
       "freq        15124\n",
       "Name: ed, dtype: object"
      ]
     },
     "metadata": {},
     "output_type": "display_data"
    },
    {
     "data": {
      "text/plain": [
       "count         21370\n",
       "unique            8\n",
       "top       сотрудник\n",
       "freq          11036\n",
       "Name: occupation, dtype: object"
      ]
     },
     "metadata": {},
     "output_type": "display_data"
    }
   ],
   "execution_count": 42
  },
  {
   "metadata": {
    "ExecuteTime": {
     "end_time": "2024-10-02T10:01:50.438548Z",
     "start_time": "2024-10-02T10:01:50.431523Z"
    }
   },
   "cell_type": "code",
   "source": "credit_data = credit_data[(credit_data.gender == 'M') | (credit_data.gender == 'F')]",
   "id": "f721d215b075cf17",
   "outputs": [],
   "execution_count": 43
  },
  {
   "metadata": {
    "ExecuteTime": {
     "end_time": "2024-10-02T10:01:50.461956Z",
     "start_time": "2024-10-02T10:01:50.456650Z"
    }
   },
   "cell_type": "code",
   "source": "credit_data.gender.describe()",
   "id": "c840a7782fb124e6",
   "outputs": [
    {
     "data": {
      "text/plain": [
       "count     21369\n",
       "unique        2\n",
       "top           F\n",
       "freq      14117\n",
       "Name: gender, dtype: object"
      ]
     },
     "execution_count": 44,
     "metadata": {},
     "output_type": "execute_result"
    }
   ],
   "execution_count": 44
  },
  {
   "metadata": {},
   "cell_type": "markdown",
   "source": "## Обработка данных о цели кредита",
   "id": "8c9ae2613a149a85"
  },
  {
   "metadata": {
    "ExecuteTime": {
     "end_time": "2024-10-02T10:01:50.505106Z",
     "start_time": "2024-10-02T10:01:50.499999Z"
    }
   },
   "cell_type": "code",
   "source": "print(credit_data.purpose.unique())",
   "id": "627f82520e837b98",
   "outputs": [
    {
     "name": "stdout",
     "output_type": "stream",
     "text": [
      "['строительство собственной недвижимости'\n",
      " 'строительство жилой недвижимости'\n",
      " 'операции с коммерческой недвижимостью' 'жилье' 'на проведение свадьбы'\n",
      " 'покупка жилья' 'операции со своей недвижимостью' 'автомобили'\n",
      " 'приобретение автомобиля' 'образование' 'заняться образованием'\n",
      " 'покупка недвижимости' 'сделка с подержанным автомобилем'\n",
      " 'получение образования' 'на покупку своего автомобиля' 'автомобиль'\n",
      " 'свадьба' 'получение дополнительного образования' 'покупка своего жилья'\n",
      " 'сыграть свадьбу' 'недвижимость' 'операции с недвижимостью'\n",
      " 'получение высшего образования' 'операции с жильем'\n",
      " 'покупка жилья для семьи' 'покупка коммерческой недвижимости'\n",
      " 'на покупку подержанного автомобиля' 'свой автомобиль'\n",
      " 'сделка с автомобилем' 'профильное образование' 'высшее образование'\n",
      " 'покупка жилья для сдачи' 'покупка жилой недвижимости'\n",
      " 'строительство недвижимости' 'на покупку автомобиля' 'ремонт жилью'\n",
      " 'дополнительное образование' 'заняться высшим образованием']\n"
     ]
    }
   ],
   "execution_count": 45
  },
  {
   "metadata": {
    "ExecuteTime": {
     "end_time": "2024-10-02T10:01:50.548509Z",
     "start_time": "2024-10-02T10:01:50.537161Z"
    }
   },
   "cell_type": "code",
   "source": [
    "def transform_purpose(purpose):\n",
    "    if purpose in [\n",
    "        'строительство собственной недвижимости',\n",
    "        'строительство жилой недвижимости',\n",
    "        'операции с коммерческой недвижимостью',\n",
    "        'жилье',\n",
    "        'покупка жилья',\n",
    "        'покупка недвижимости',\n",
    "        'операции со своей недвижимостью',\n",
    "        'покупка своего жилья',\n",
    "        'операции с недвижимостью',\n",
    "        'операции с жильем',\n",
    "        'покупка жилья для семьи',\n",
    "        'покупка коммерческой недвижимости',\n",
    "        'покупка жилья для сдачи',\n",
    "        'покупка жилой недвижимости',\n",
    "        'строительство недвижимости',\n",
    "        'ремонт жилью'\n",
    "    ]:\n",
    "        return 'недвижимость'\n",
    "    elif purpose in [\n",
    "        'на проведение свадьбы',\n",
    "        'сыграть свадьбу'\n",
    "    ]:\n",
    "        return 'свадьба'\n",
    "    elif purpose in [\n",
    "        'автомобили',\n",
    "        'приобретение автомобиля',\n",
    "        'сделка с подержанным автомобилем',\n",
    "        'на покупку своего автомобиля',\n",
    "        'на покупку подержанного автомобиля',\n",
    "        'свой автомобиль',\n",
    "        'сделка с автомобилем',\n",
    "        'на покупку автомобиля'\n",
    "    ]:\n",
    "        return 'автомобиль'\n",
    "    elif purpose in [\n",
    "        'заняться образованием',\n",
    "        'получение образования',\n",
    "        'получение дополнительного образования',\n",
    "        'получение высшего образования',\n",
    "        'профильное образование',\n",
    "        'высшее образование',\n",
    "        'дополнительное образование',\n",
    "        'заняться высшим образованием'\n",
    "    ]:\n",
    "        return 'образование'\n",
    "    else:\n",
    "        return purpose\n",
    "\n",
    "\n",
    "credit_data.purpose = credit_data.purpose.apply(transform_purpose)\n"
   ],
   "id": "7f349ddd2e379554",
   "outputs": [],
   "execution_count": 46
  },
  {
   "metadata": {
    "ExecuteTime": {
     "end_time": "2024-10-02T10:01:50.575770Z",
     "start_time": "2024-10-02T10:01:50.568980Z"
    }
   },
   "cell_type": "code",
   "source": "credit_data.purpose.describe()",
   "id": "b2e54f166baad052",
   "outputs": [
    {
     "data": {
      "text/plain": [
       "count            21369\n",
       "unique               4\n",
       "top       недвижимость\n",
       "freq             10766\n",
       "Name: purpose, dtype: object"
      ]
     },
     "execution_count": 47,
     "metadata": {},
     "output_type": "execute_result"
    }
   ],
   "execution_count": 47
  },
  {
   "metadata": {
    "ExecuteTime": {
     "end_time": "2024-10-02T10:01:50.622739Z",
     "start_time": "2024-10-02T10:01:50.605651Z"
    }
   },
   "cell_type": "code",
   "source": "credit_data.describe()",
   "id": "831e3ab3e5c1e933",
   "outputs": [
    {
     "data": {
      "text/plain": [
       "              child    d_employed           age        ed_id  fam_status_id  \\\n",
       "count  21369.000000  21369.000000  21369.000000  21369.00000   21369.000000   \n",
       "mean       0.543357   4393.967991     43.484534      0.81782       0.972437   \n",
       "std        1.377061   5134.523938     12.245590      0.54855       1.420533   \n",
       "min        0.000000     24.000000     19.000000      0.00000       0.000000   \n",
       "25%        0.000000   1023.000000     33.000000      1.00000       0.000000   \n",
       "50%        0.000000   2183.000000     43.000000      1.00000       0.000000   \n",
       "75%        1.000000   4787.000000     53.000000      1.00000       1.000000   \n",
       "max       20.000000  16739.000000     75.000000      4.00000       4.000000   \n",
       "\n",
       "               debt  total_income  \n",
       "count  21369.000000  1.925900e+04  \n",
       "mean       0.081099  1.674633e+05  \n",
       "std        0.272993  1.030897e+05  \n",
       "min        0.000000  2.066726e+04  \n",
       "25%        0.000000  1.030929e+05  \n",
       "50%        0.000000  1.450055e+05  \n",
       "75%        0.000000  2.033503e+05  \n",
       "max        1.000000  2.265604e+06  "
      ],
      "text/html": [
       "<div>\n",
       "<style scoped>\n",
       "    .dataframe tbody tr th:only-of-type {\n",
       "        vertical-align: middle;\n",
       "    }\n",
       "\n",
       "    .dataframe tbody tr th {\n",
       "        vertical-align: top;\n",
       "    }\n",
       "\n",
       "    .dataframe thead th {\n",
       "        text-align: right;\n",
       "    }\n",
       "</style>\n",
       "<table border=\"1\" class=\"dataframe\">\n",
       "  <thead>\n",
       "    <tr style=\"text-align: right;\">\n",
       "      <th></th>\n",
       "      <th>child</th>\n",
       "      <th>d_employed</th>\n",
       "      <th>age</th>\n",
       "      <th>ed_id</th>\n",
       "      <th>fam_status_id</th>\n",
       "      <th>debt</th>\n",
       "      <th>total_income</th>\n",
       "    </tr>\n",
       "  </thead>\n",
       "  <tbody>\n",
       "    <tr>\n",
       "      <th>count</th>\n",
       "      <td>21369.000000</td>\n",
       "      <td>21369.000000</td>\n",
       "      <td>21369.000000</td>\n",
       "      <td>21369.00000</td>\n",
       "      <td>21369.000000</td>\n",
       "      <td>21369.000000</td>\n",
       "      <td>1.925900e+04</td>\n",
       "    </tr>\n",
       "    <tr>\n",
       "      <th>mean</th>\n",
       "      <td>0.543357</td>\n",
       "      <td>4393.967991</td>\n",
       "      <td>43.484534</td>\n",
       "      <td>0.81782</td>\n",
       "      <td>0.972437</td>\n",
       "      <td>0.081099</td>\n",
       "      <td>1.674633e+05</td>\n",
       "    </tr>\n",
       "    <tr>\n",
       "      <th>std</th>\n",
       "      <td>1.377061</td>\n",
       "      <td>5134.523938</td>\n",
       "      <td>12.245590</td>\n",
       "      <td>0.54855</td>\n",
       "      <td>1.420533</td>\n",
       "      <td>0.272993</td>\n",
       "      <td>1.030897e+05</td>\n",
       "    </tr>\n",
       "    <tr>\n",
       "      <th>min</th>\n",
       "      <td>0.000000</td>\n",
       "      <td>24.000000</td>\n",
       "      <td>19.000000</td>\n",
       "      <td>0.00000</td>\n",
       "      <td>0.000000</td>\n",
       "      <td>0.000000</td>\n",
       "      <td>2.066726e+04</td>\n",
       "    </tr>\n",
       "    <tr>\n",
       "      <th>25%</th>\n",
       "      <td>0.000000</td>\n",
       "      <td>1023.000000</td>\n",
       "      <td>33.000000</td>\n",
       "      <td>1.00000</td>\n",
       "      <td>0.000000</td>\n",
       "      <td>0.000000</td>\n",
       "      <td>1.030929e+05</td>\n",
       "    </tr>\n",
       "    <tr>\n",
       "      <th>50%</th>\n",
       "      <td>0.000000</td>\n",
       "      <td>2183.000000</td>\n",
       "      <td>43.000000</td>\n",
       "      <td>1.00000</td>\n",
       "      <td>0.000000</td>\n",
       "      <td>0.000000</td>\n",
       "      <td>1.450055e+05</td>\n",
       "    </tr>\n",
       "    <tr>\n",
       "      <th>75%</th>\n",
       "      <td>1.000000</td>\n",
       "      <td>4787.000000</td>\n",
       "      <td>53.000000</td>\n",
       "      <td>1.00000</td>\n",
       "      <td>1.000000</td>\n",
       "      <td>0.000000</td>\n",
       "      <td>2.033503e+05</td>\n",
       "    </tr>\n",
       "    <tr>\n",
       "      <th>max</th>\n",
       "      <td>20.000000</td>\n",
       "      <td>16739.000000</td>\n",
       "      <td>75.000000</td>\n",
       "      <td>4.00000</td>\n",
       "      <td>4.000000</td>\n",
       "      <td>1.000000</td>\n",
       "      <td>2.265604e+06</td>\n",
       "    </tr>\n",
       "  </tbody>\n",
       "</table>\n",
       "</div>"
      ]
     },
     "execution_count": 48,
     "metadata": {},
     "output_type": "execute_result"
    }
   ],
   "execution_count": 48
  },
  {
   "metadata": {},
   "cell_type": "markdown",
   "source": "## Обработка данных о зарплате",
   "id": "539fa8ed2bd56185"
  },
  {
   "metadata": {
    "ExecuteTime": {
     "end_time": "2024-10-02T10:01:50.700891Z",
     "start_time": "2024-10-02T10:01:50.683302Z"
    }
   },
   "cell_type": "code",
   "source": [
    "credit_data.total_income = credit_data.total_income.fillna(credit_data.total_income.median())\n",
    "credit_data.describe()"
   ],
   "id": "1942242fc0fa8914",
   "outputs": [
    {
     "data": {
      "text/plain": [
       "              child    d_employed           age        ed_id  fam_status_id  \\\n",
       "count  21369.000000  21369.000000  21369.000000  21369.00000   21369.000000   \n",
       "mean       0.543357   4393.967991     43.484534      0.81782       0.972437   \n",
       "std        1.377061   5134.523938     12.245590      0.54855       1.420533   \n",
       "min        0.000000     24.000000     19.000000      0.00000       0.000000   \n",
       "25%        0.000000   1023.000000     33.000000      1.00000       0.000000   \n",
       "50%        0.000000   2183.000000     43.000000      1.00000       0.000000   \n",
       "75%        1.000000   4787.000000     53.000000      1.00000       1.000000   \n",
       "max       20.000000  16739.000000     75.000000      4.00000       4.000000   \n",
       "\n",
       "               debt  total_income  \n",
       "count  21369.000000  2.136900e+04  \n",
       "mean       0.081099  1.652458e+05  \n",
       "std        0.272993  9.809662e+04  \n",
       "min        0.000000  2.066726e+04  \n",
       "25%        0.000000  1.077064e+05  \n",
       "50%        0.000000  1.450055e+05  \n",
       "75%        0.000000  1.957379e+05  \n",
       "max        1.000000  2.265604e+06  "
      ],
      "text/html": [
       "<div>\n",
       "<style scoped>\n",
       "    .dataframe tbody tr th:only-of-type {\n",
       "        vertical-align: middle;\n",
       "    }\n",
       "\n",
       "    .dataframe tbody tr th {\n",
       "        vertical-align: top;\n",
       "    }\n",
       "\n",
       "    .dataframe thead th {\n",
       "        text-align: right;\n",
       "    }\n",
       "</style>\n",
       "<table border=\"1\" class=\"dataframe\">\n",
       "  <thead>\n",
       "    <tr style=\"text-align: right;\">\n",
       "      <th></th>\n",
       "      <th>child</th>\n",
       "      <th>d_employed</th>\n",
       "      <th>age</th>\n",
       "      <th>ed_id</th>\n",
       "      <th>fam_status_id</th>\n",
       "      <th>debt</th>\n",
       "      <th>total_income</th>\n",
       "    </tr>\n",
       "  </thead>\n",
       "  <tbody>\n",
       "    <tr>\n",
       "      <th>count</th>\n",
       "      <td>21369.000000</td>\n",
       "      <td>21369.000000</td>\n",
       "      <td>21369.000000</td>\n",
       "      <td>21369.00000</td>\n",
       "      <td>21369.000000</td>\n",
       "      <td>21369.000000</td>\n",
       "      <td>2.136900e+04</td>\n",
       "    </tr>\n",
       "    <tr>\n",
       "      <th>mean</th>\n",
       "      <td>0.543357</td>\n",
       "      <td>4393.967991</td>\n",
       "      <td>43.484534</td>\n",
       "      <td>0.81782</td>\n",
       "      <td>0.972437</td>\n",
       "      <td>0.081099</td>\n",
       "      <td>1.652458e+05</td>\n",
       "    </tr>\n",
       "    <tr>\n",
       "      <th>std</th>\n",
       "      <td>1.377061</td>\n",
       "      <td>5134.523938</td>\n",
       "      <td>12.245590</td>\n",
       "      <td>0.54855</td>\n",
       "      <td>1.420533</td>\n",
       "      <td>0.272993</td>\n",
       "      <td>9.809662e+04</td>\n",
       "    </tr>\n",
       "    <tr>\n",
       "      <th>min</th>\n",
       "      <td>0.000000</td>\n",
       "      <td>24.000000</td>\n",
       "      <td>19.000000</td>\n",
       "      <td>0.00000</td>\n",
       "      <td>0.000000</td>\n",
       "      <td>0.000000</td>\n",
       "      <td>2.066726e+04</td>\n",
       "    </tr>\n",
       "    <tr>\n",
       "      <th>25%</th>\n",
       "      <td>0.000000</td>\n",
       "      <td>1023.000000</td>\n",
       "      <td>33.000000</td>\n",
       "      <td>1.00000</td>\n",
       "      <td>0.000000</td>\n",
       "      <td>0.000000</td>\n",
       "      <td>1.077064e+05</td>\n",
       "    </tr>\n",
       "    <tr>\n",
       "      <th>50%</th>\n",
       "      <td>0.000000</td>\n",
       "      <td>2183.000000</td>\n",
       "      <td>43.000000</td>\n",
       "      <td>1.00000</td>\n",
       "      <td>0.000000</td>\n",
       "      <td>0.000000</td>\n",
       "      <td>1.450055e+05</td>\n",
       "    </tr>\n",
       "    <tr>\n",
       "      <th>75%</th>\n",
       "      <td>1.000000</td>\n",
       "      <td>4787.000000</td>\n",
       "      <td>53.000000</td>\n",
       "      <td>1.00000</td>\n",
       "      <td>1.000000</td>\n",
       "      <td>0.000000</td>\n",
       "      <td>1.957379e+05</td>\n",
       "    </tr>\n",
       "    <tr>\n",
       "      <th>max</th>\n",
       "      <td>20.000000</td>\n",
       "      <td>16739.000000</td>\n",
       "      <td>75.000000</td>\n",
       "      <td>4.00000</td>\n",
       "      <td>4.000000</td>\n",
       "      <td>1.000000</td>\n",
       "      <td>2.265604e+06</td>\n",
       "    </tr>\n",
       "  </tbody>\n",
       "</table>\n",
       "</div>"
      ]
     },
     "execution_count": 49,
     "metadata": {},
     "output_type": "execute_result"
    }
   ],
   "execution_count": 49
  },
  {
   "metadata": {
    "ExecuteTime": {
     "end_time": "2024-10-02T10:01:50.756368Z",
     "start_time": "2024-10-02T10:01:50.747758Z"
    }
   },
   "cell_type": "code",
   "source": [
    "def total_income(income):\n",
    "    if income <= 30000:\n",
    "        return \"низкая\"\n",
    "    elif income >= 30000 and income <= 50000:\n",
    "        return \"выше среднего\"\n",
    "    elif income >= 50000 and income <= 200000:\n",
    "        return \"средняя\"\n",
    "    elif income >= 200000 and income <= 1000000:\n",
    "        return \"ниже среднего\"\n",
    "    else:\n",
    "        return \"высокая\"\n",
    "\n",
    "\n",
    "credit_data.total_income = credit_data.total_income.apply(total_income)"
   ],
   "id": "65e3a6308b41b58b",
   "outputs": [],
   "execution_count": 50
  },
  {
   "metadata": {
    "ExecuteTime": {
     "end_time": "2024-10-02T10:01:50.816606Z",
     "start_time": "2024-10-02T10:01:50.809934Z"
    }
   },
   "cell_type": "code",
   "source": "credit_data.total_income.describe()",
   "id": "cf096930da53b60f",
   "outputs": [
    {
     "data": {
      "text/plain": [
       "count       21369\n",
       "unique          5\n",
       "top       средняя\n",
       "freq        15960\n",
       "Name: total_income, dtype: object"
      ]
     },
     "execution_count": 51,
     "metadata": {},
     "output_type": "execute_result"
    }
   ],
   "execution_count": 51
  },
  {
   "metadata": {
    "ExecuteTime": {
     "end_time": "2024-10-02T10:01:50.890965Z",
     "start_time": "2024-10-02T10:01:50.876074Z"
    }
   },
   "cell_type": "code",
   "source": "credit_data.describe()",
   "id": "32ea0ce265a65cfe",
   "outputs": [
    {
     "data": {
      "text/plain": [
       "              child    d_employed           age        ed_id  fam_status_id  \\\n",
       "count  21369.000000  21369.000000  21369.000000  21369.00000   21369.000000   \n",
       "mean       0.543357   4393.967991     43.484534      0.81782       0.972437   \n",
       "std        1.377061   5134.523938     12.245590      0.54855       1.420533   \n",
       "min        0.000000     24.000000     19.000000      0.00000       0.000000   \n",
       "25%        0.000000   1023.000000     33.000000      1.00000       0.000000   \n",
       "50%        0.000000   2183.000000     43.000000      1.00000       0.000000   \n",
       "75%        1.000000   4787.000000     53.000000      1.00000       1.000000   \n",
       "max       20.000000  16739.000000     75.000000      4.00000       4.000000   \n",
       "\n",
       "               debt  \n",
       "count  21369.000000  \n",
       "mean       0.081099  \n",
       "std        0.272993  \n",
       "min        0.000000  \n",
       "25%        0.000000  \n",
       "50%        0.000000  \n",
       "75%        0.000000  \n",
       "max        1.000000  "
      ],
      "text/html": [
       "<div>\n",
       "<style scoped>\n",
       "    .dataframe tbody tr th:only-of-type {\n",
       "        vertical-align: middle;\n",
       "    }\n",
       "\n",
       "    .dataframe tbody tr th {\n",
       "        vertical-align: top;\n",
       "    }\n",
       "\n",
       "    .dataframe thead th {\n",
       "        text-align: right;\n",
       "    }\n",
       "</style>\n",
       "<table border=\"1\" class=\"dataframe\">\n",
       "  <thead>\n",
       "    <tr style=\"text-align: right;\">\n",
       "      <th></th>\n",
       "      <th>child</th>\n",
       "      <th>d_employed</th>\n",
       "      <th>age</th>\n",
       "      <th>ed_id</th>\n",
       "      <th>fam_status_id</th>\n",
       "      <th>debt</th>\n",
       "    </tr>\n",
       "  </thead>\n",
       "  <tbody>\n",
       "    <tr>\n",
       "      <th>count</th>\n",
       "      <td>21369.000000</td>\n",
       "      <td>21369.000000</td>\n",
       "      <td>21369.000000</td>\n",
       "      <td>21369.00000</td>\n",
       "      <td>21369.000000</td>\n",
       "      <td>21369.000000</td>\n",
       "    </tr>\n",
       "    <tr>\n",
       "      <th>mean</th>\n",
       "      <td>0.543357</td>\n",
       "      <td>4393.967991</td>\n",
       "      <td>43.484534</td>\n",
       "      <td>0.81782</td>\n",
       "      <td>0.972437</td>\n",
       "      <td>0.081099</td>\n",
       "    </tr>\n",
       "    <tr>\n",
       "      <th>std</th>\n",
       "      <td>1.377061</td>\n",
       "      <td>5134.523938</td>\n",
       "      <td>12.245590</td>\n",
       "      <td>0.54855</td>\n",
       "      <td>1.420533</td>\n",
       "      <td>0.272993</td>\n",
       "    </tr>\n",
       "    <tr>\n",
       "      <th>min</th>\n",
       "      <td>0.000000</td>\n",
       "      <td>24.000000</td>\n",
       "      <td>19.000000</td>\n",
       "      <td>0.00000</td>\n",
       "      <td>0.000000</td>\n",
       "      <td>0.000000</td>\n",
       "    </tr>\n",
       "    <tr>\n",
       "      <th>25%</th>\n",
       "      <td>0.000000</td>\n",
       "      <td>1023.000000</td>\n",
       "      <td>33.000000</td>\n",
       "      <td>1.00000</td>\n",
       "      <td>0.000000</td>\n",
       "      <td>0.000000</td>\n",
       "    </tr>\n",
       "    <tr>\n",
       "      <th>50%</th>\n",
       "      <td>0.000000</td>\n",
       "      <td>2183.000000</td>\n",
       "      <td>43.000000</td>\n",
       "      <td>1.00000</td>\n",
       "      <td>0.000000</td>\n",
       "      <td>0.000000</td>\n",
       "    </tr>\n",
       "    <tr>\n",
       "      <th>75%</th>\n",
       "      <td>1.000000</td>\n",
       "      <td>4787.000000</td>\n",
       "      <td>53.000000</td>\n",
       "      <td>1.00000</td>\n",
       "      <td>1.000000</td>\n",
       "      <td>0.000000</td>\n",
       "    </tr>\n",
       "    <tr>\n",
       "      <th>max</th>\n",
       "      <td>20.000000</td>\n",
       "      <td>16739.000000</td>\n",
       "      <td>75.000000</td>\n",
       "      <td>4.00000</td>\n",
       "      <td>4.000000</td>\n",
       "      <td>1.000000</td>\n",
       "    </tr>\n",
       "  </tbody>\n",
       "</table>\n",
       "</div>"
      ]
     },
     "execution_count": 52,
     "metadata": {},
     "output_type": "execute_result"
    }
   ],
   "execution_count": 52
  },
  {
   "metadata": {},
   "cell_type": "markdown",
   "source": [
    "## Задание 1\n",
    "## Существует ли связь между количеством детей и своевременным погашением кредита?"
   ],
   "id": "b60be73637a85cc1"
  },
  {
   "metadata": {
    "ExecuteTime": {
     "end_time": "2024-10-02T10:01:50.944840Z",
     "start_time": "2024-10-02T10:01:50.938303Z"
    }
   },
   "cell_type": "code",
   "source": [
    "n = credit_data.groupby(\"child\")[\"debt\"].size()\n",
    "credit_data_child = credit_data.loc[credit_data.debt == 1].groupby(\"child\")[\"debt\"].size()\n",
    "display(credit_data_child)\n",
    "credit_data_child = credit_data_child / n"
   ],
   "id": "9de1876ef81ce490",
   "outputs": [
    {
     "data": {
      "text/plain": [
       "child\n",
       "0     1058\n",
       "1      442\n",
       "2      194\n",
       "3       27\n",
       "4        4\n",
       "20       8\n",
       "Name: debt, dtype: int64"
      ]
     },
     "metadata": {},
     "output_type": "display_data"
    }
   ],
   "execution_count": 53
  },
  {
   "metadata": {
    "ExecuteTime": {
     "end_time": "2024-10-02T10:01:51.142726Z",
     "start_time": "2024-10-02T10:01:50.996787Z"
    }
   },
   "cell_type": "code",
   "source": [
    "fig = plt.figure(figsize=(7, 7))\n",
    "ax = fig.add_subplot(111)\n",
    "ax.barh(credit_data_child.index, credit_data_child.values * 100, color='')\n",
    "ax.set_xlabel('Процент людей с задолжностью')\n",
    "ax.set_ylabel('Количество детей')\n",
    "ax.set_title('Зависимость задолжности от количества детей')\n",
    "plt.show()"
   ],
   "id": "2afa1ccf8b13f806",
   "outputs": [
    {
     "data": {
      "text/plain": [
       "<Figure size 700x700 with 1 Axes>"
      ],
      "image/png": "[encoded data removed]"
     },
     "metadata": {},
     "output_type": "display_data"
    }
   ],
   "execution_count": 54
  },
  {
   "metadata": {},
   "cell_type": "markdown",
   "source": [
    "## Задание 2\n",
    "## Имеет ли влияние семейное положение на возврат кредита в оговоренный срок?"
   ],
   "id": "6f684b12f8e62f2f"
  },
  {
   "metadata": {
    "ExecuteTime": {
     "end_time": "2024-10-02T10:01:51.161836Z",
     "start_time": "2024-10-02T10:01:51.154283Z"
    }
   },
   "cell_type": "code",
   "source": [
    "n = credit_data.groupby(\"fam_status\")[\"debt\"].size()\n",
    "credit_data_fam_status = credit_data.loc[credit_data.debt == 1].groupby(\"fam_status\")[\"debt\"].size()\n",
    "credit_data_fam_status = credit_data_fam_status / n\n"
   ],
   "id": "e049f180e5baafed",
   "outputs": [],
   "execution_count": 55
  },
  {
   "metadata": {
    "ExecuteTime": {
     "end_time": "2024-10-02T10:01:51.292639Z",
     "start_time": "2024-10-02T10:01:51.203663Z"
    }
   },
   "cell_type": "code",
   "source": [
    "fig = plt.figure(figsize=(7, 7))\n",
    "ax = fig.add_subplot(111)\n",
    "ax.barh(credit_data_fam_status.index, credit_data_fam_status.values * 100, color='yellow')\n",
    "ax.set_xlabel('Процент людей с задолжностью')\n",
    "ax.set_ylabel('Семейное положение')\n",
    "ax.set_title('Зависимость задолжности от семейного положения')\n",
    "plt.show()"
   ],
   "id": "9f57193cce87d22a",
   "outputs": [
    {
     "data": {
      "text/plain": [
       "<Figure size 700x700 with 1 Axes>"
      ],
      "image/png": "[encoded data removed]"
     },
     "metadata": {},
     "output_type": "display_data"
    }
   ],
   "execution_count": 56
  },
  {
   "metadata": {},
   "cell_type": "markdown",
   "source": [
    "## Задание 3\n",
    "## Есть ли зависимость между уровнем дохода заемщика и своевременным погашением задолженности?"
   ],
   "id": "5ddbfba670f3f818"
  },
  {
   "metadata": {
    "ExecuteTime": {
     "end_time": "2024-10-02T10:01:51.306873Z",
     "start_time": "2024-10-02T10:01:51.300420Z"
    }
   },
   "cell_type": "code",
   "source": [
    "n = credit_data.groupby(\"total_income\")[\"debt\"].size()\n",
    "credit_data_income = credit_data.loc[credit_data.debt == 1].groupby(\"total_income\")[\"debt\"].size()\n",
    "credit_data_income = credit_data_income / n"
   ],
   "id": "6c49927bdd7b4a54",
   "outputs": [],
   "execution_count": 57
  },
  {
   "metadata": {
    "ExecuteTime": {
     "end_time": "2024-10-02T10:01:51.397757Z",
     "start_time": "2024-10-02T10:01:51.319754Z"
    }
   },
   "cell_type": "code",
   "source": [
    "fig = plt.figure(figsize=(7, 7))\n",
    "ax = fig.add_subplot(111)\n",
    "ax.barh(credit_data_income.index, credit_data_income.values * 100, color='green')\n",
    "ax.set_xlabel('Процент людей с задолжностью')\n",
    "ax.set_ylabel('Зарплата')\n",
    "ax.set_title('Зависимость задолжности от зарплаты')\n",
    "plt.show()"
   ],
   "id": "10266cf1bccc533e",
   "outputs": [
    {
     "data": {
      "text/plain": [
       "<Figure size 700x700 with 1 Axes>"
      ],
      "image/png": "[encoded data removed]"
     },
     "metadata": {},
     "output_type": "display_data"
    }
   ],
   "execution_count": 58
  },
  {
   "metadata": {},
   "cell_type": "markdown",
   "source": [
    "## Задание 4\n",
    "## Как цели, на которые берется кредит, влияют на его возврат в срок?"
   ],
   "id": "37fcfdf0ebc16a77"
  },
  {
   "metadata": {
    "ExecuteTime": {
     "end_time": "2024-10-02T10:01:51.414560Z",
     "start_time": "2024-10-02T10:01:51.407936Z"
    }
   },
   "cell_type": "code",
   "source": [
    "n = credit_data.groupby(\"purpose\")[\"debt\"].size()\n",
    "credit_data_purpose = credit_data.loc[credit_data.debt == 1].groupby(\"purpose\")[\"debt\"].size()\n",
    "credit_data_purpose = credit_data_purpose / n"
   ],
   "id": "49ecc64b219f67f2",
   "outputs": [],
   "execution_count": 59
  },
  {
   "metadata": {
    "ExecuteTime": {
     "end_time": "2024-10-02T10:01:51.511954Z",
     "start_time": "2024-10-02T10:01:51.424682Z"
    }
   },
   "cell_type": "code",
   "source": [
    "fig = plt.figure(figsize=(7, 7))\n",
    "ax = fig.add_subplot(111)\n",
    "ax.barh(credit_data_purpose.index, credit_data_purpose.values * 100, color='blue')\n",
    "ax.set_xlabel('Процент людей с задолжностью')\n",
    "ax.set_ylabel('Цель кредита')\n",
    "ax.set_title('Зависимость задолжности от цели кредита')\n",
    "plt.show()"
   ],
   "id": "649eb7a228a4a2d6",
   "outputs": [
    {
     "data": {
      "text/plain": [
       "<Figure size 700x700 with 1 Axes>"
      ],
      "image/png": "[encoded data removed]"
     },
     "metadata": {},
     "output_type": "display_data"
    }
   ],
   "execution_count": 60
  }
 ],
 "metadata": {
  "kernelspec": {
   "display_name": "Python 3",
   "language": "python",
   "name": "python3"
  },
  "language_info": {
   "codemirror_mode": {
    "name": "ipython",
    "version": 2
   },
   "file_extension": ".py",
   "mimetype": "text/x-python",
   "name": "python",
   "nbconvert_exporter": "python",
   "pygments_lexer": "ipython2",
   "version": "2.7.6"
  }
 },
 "nbformat": 4,
 "nbformat_minor": 5
}
